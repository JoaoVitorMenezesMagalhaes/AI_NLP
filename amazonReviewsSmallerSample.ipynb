{
 "cells": [
  {
   "cell_type": "code",
   "execution_count": 3,
   "metadata": {},
   "outputs": [
    {
     "name": "stdout",
     "output_type": "stream",
     "text": [
      "        label                                             review\n",
      "0  __label__2  Great CD: My lovely Pat has one of the GREAT v...\n",
      "1  __label__2  One of the best game music soundtracks - for a...\n",
      "2  __label__1  Batteries died within a year ...: I bought thi...\n",
      "3  __label__2  works fine, but Maha Energy is better: Check o...\n",
      "4  __label__2  Great for the non-audiophile: Reviewed quite a...\n"
     ]
    }
   ],
   "source": [
    "import pandas as pd\n",
    "import re\n",
    "\n",
    "# Exemplo de dados carregados diretamente (você precisará substituir pelo caminho correto do arquivo)\n",
    "with open('data/test.ft.txt', 'r', encoding='utf-8') as f:\n",
    "    raw_data = f.readlines()\n",
    "\n",
    "# Função para separar o rótulo e o texto da revisão\n",
    "def process_review_line(line):\n",
    "    # Separar rótulo do texto\n",
    "    match = re.match(r'(__label__\\d) (.+)', line)\n",
    "    if match:\n",
    "        label = match.group(1)\n",
    "        review = match.group(2)\n",
    "        return label, review\n",
    "    return None, None\n",
    "\n",
    "# Processar todas as linhas e organizar em listas\n",
    "labels = []\n",
    "reviews = []\n",
    "\n",
    "for line in raw_data:\n",
    "    label, review = process_review_line(line.strip())\n",
    "    if label and review:\n",
    "        labels.append(label)\n",
    "        reviews.append(review)\n",
    "\n",
    "# Criar DataFrame organizado\n",
    "df_test = pd.DataFrame({'label': labels, 'review': reviews})\n",
    "\n",
    "# Exibir as primeiras linhas do DataFrame\n",
    "print(df_test.head())"
   ]
  },
  {
   "cell_type": "code",
   "execution_count": 4,
   "metadata": {},
   "outputs": [
    {
     "data": {
      "text/html": [
       "<div>\n",
       "<style scoped>\n",
       "    .dataframe tbody tr th:only-of-type {\n",
       "        vertical-align: middle;\n",
       "    }\n",
       "\n",
       "    .dataframe tbody tr th {\n",
       "        vertical-align: top;\n",
       "    }\n",
       "\n",
       "    .dataframe thead th {\n",
       "        text-align: right;\n",
       "    }\n",
       "</style>\n",
       "<table border=\"1\" class=\"dataframe\">\n",
       "  <thead>\n",
       "    <tr style=\"text-align: right;\">\n",
       "      <th></th>\n",
       "      <th>label</th>\n",
       "      <th>review</th>\n",
       "    </tr>\n",
       "  </thead>\n",
       "  <tbody>\n",
       "    <tr>\n",
       "      <th>0</th>\n",
       "      <td>2</td>\n",
       "      <td>Great CD: My lovely Pat has one of the GREAT v...</td>\n",
       "    </tr>\n",
       "    <tr>\n",
       "      <th>1</th>\n",
       "      <td>2</td>\n",
       "      <td>One of the best game music soundtracks - for a...</td>\n",
       "    </tr>\n",
       "    <tr>\n",
       "      <th>2</th>\n",
       "      <td>1</td>\n",
       "      <td>Batteries died within a year ...: I bought thi...</td>\n",
       "    </tr>\n",
       "    <tr>\n",
       "      <th>3</th>\n",
       "      <td>2</td>\n",
       "      <td>works fine, but Maha Energy is better: Check o...</td>\n",
       "    </tr>\n",
       "    <tr>\n",
       "      <th>4</th>\n",
       "      <td>2</td>\n",
       "      <td>Great for the non-audiophile: Reviewed quite a...</td>\n",
       "    </tr>\n",
       "  </tbody>\n",
       "</table>\n",
       "</div>"
      ],
      "text/plain": [
       "   label                                             review\n",
       "0      2  Great CD: My lovely Pat has one of the GREAT v...\n",
       "1      2  One of the best game music soundtracks - for a...\n",
       "2      1  Batteries died within a year ...: I bought thi...\n",
       "3      2  works fine, but Maha Energy is better: Check o...\n",
       "4      2  Great for the non-audiophile: Reviewed quite a..."
      ]
     },
     "execution_count": 4,
     "metadata": {},
     "output_type": "execute_result"
    }
   ],
   "source": [
    "# Mapeando os rótulos para valores numéricos\n",
    "df_test['label'] = df_test['label'].map({'__label__1': 1, '__label__2': 2})\n",
    "df_test.head()"
   ]
  },
  {
   "cell_type": "code",
   "execution_count": 5,
   "metadata": {},
   "outputs": [
    {
     "name": "stderr",
     "output_type": "stream",
     "text": [
      "[nltk_data] Downloading package stopwords to\n",
      "[nltk_data]     C:\\Users\\joaom\\AppData\\Roaming\\nltk_data...\n",
      "[nltk_data]   Package stopwords is already up-to-date!\n",
      "[nltk_data] Downloading package wordnet to\n",
      "[nltk_data]     C:\\Users\\joaom\\AppData\\Roaming\\nltk_data...\n",
      "[nltk_data]   Package wordnet is already up-to-date!\n",
      "[nltk_data] Downloading package omw-1.4 to\n",
      "[nltk_data]     C:\\Users\\joaom\\AppData\\Roaming\\nltk_data...\n",
      "[nltk_data]   Package omw-1.4 is already up-to-date!\n"
     ]
    },
    {
     "name": "stdout",
     "output_type": "stream",
     "text": [
      "0    [great, cd, lovely, pat, one, great, voice, ge...\n",
      "1    [one, best, game, music, soundtrack, game, rea...\n",
      "2    [battery, died, within, year, bought, charger,...\n",
      "3    [work, fine, maha, energy, better, check, maha...\n",
      "4    [great, non, audiophile, reviewed, quite, bit,...\n",
      "Name: tokens, dtype: object\n"
     ]
    }
   ],
   "source": [
    "import re\n",
    "import nltk\n",
    "from nltk.corpus import stopwords\n",
    "from nltk.stem import WordNetLemmatizer\n",
    "\n",
    "# Baixar pacotes do nltk necessários\n",
    "nltk.download('stopwords')\n",
    "nltk.download('wordnet')\n",
    "nltk.download('omw-1.4')\n",
    "\n",
    "# Inicializar lematizador e obter lista de stopwords\n",
    "lemmatizer = WordNetLemmatizer()\n",
    "stop_words = set(stopwords.words('english'))\n",
    "\n",
    "# Função de tokenização e lematização\n",
    "def tokenize(text):\n",
    "    expression = r\"\\w+\"\n",
    "    match = re.findall(expression, text)\n",
    "    tokens = [lemmatizer.lemmatize(m.lower()) for m in match if m.lower() not in stop_words]\n",
    "    return tokens\n",
    "\n",
    "# Aplicar ao DataFrame\n",
    "df_test['tokens'] = df_test['review'].apply(tokenize)\n",
    "print(df_test['tokens'].head())"
   ]
  },
  {
   "cell_type": "code",
   "execution_count": 10,
   "metadata": {},
   "outputs": [
    {
     "name": "stderr",
     "output_type": "stream",
     "text": [
      "c:\\Users\\joaom\\AppData\\Local\\Continuum\\anaconda3\\envs\\pfe\\lib\\site-packages\\sklearn\\feature_extraction\\text.py:525: UserWarning: The parameter 'token_pattern' will not be used since 'tokenizer' is not None'\n",
      "  warnings.warn(\n"
     ]
    },
    {
     "name": "stdout",
     "output_type": "stream",
     "text": [
      "              precision    recall  f1-score   support\n",
      "\n",
      "           1       0.84      0.85      0.84     39896\n",
      "           2       0.85      0.83      0.84     40104\n",
      "\n",
      "    accuracy                           0.84     80000\n",
      "   macro avg       0.84      0.84      0.84     80000\n",
      "weighted avg       0.84      0.84      0.84     80000\n",
      "\n"
     ]
    }
   ],
   "source": [
    "from sklearn.feature_extraction.text import CountVectorizer, TfidfVectorizer\n",
    "from sklearn.naive_bayes import MultinomialNB\n",
    "from sklearn.pipeline import Pipeline\n",
    "from sklearn.model_selection import train_test_split\n",
    "from sklearn.metrics import classification_report\n",
    "\n",
    "# Dividir dados em treino e teste\n",
    "X_train, X_test, y_train, y_test = train_test_split(df_test['review'], df_test['label'], test_size=0.2, random_state=42)\n",
    "\n",
    "# Definir pipeline com Bag-of-Words e Naive Bayes\n",
    "pipeline = Pipeline([\n",
    "    ('vect', CountVectorizer(tokenizer=tokenize)),\n",
    "    ('clf', MultinomialNB())\n",
    "])\n",
    "\n",
    "# Treinar o modelo\n",
    "pipeline.fit(X_train, y_train)\n",
    "\n",
    "# Avaliar o modelo\n",
    "y_pred = pipeline.predict(X_test)\n",
    "print(classification_report(y_test, y_pred))\n"
   ]
  },
  {
   "cell_type": "code",
   "execution_count": 11,
   "metadata": {},
   "outputs": [
    {
     "name": "stdout",
     "output_type": "stream",
     "text": [
      "Balanced Accuracy Score: 0.8427116242305798\n",
      "              precision    recall  f1-score   support\n",
      "\n",
      "           1       0.84      0.85      0.84     39896\n",
      "           2       0.85      0.83      0.84     40104\n",
      "\n",
      "    accuracy                           0.84     80000\n",
      "   macro avg       0.84      0.84      0.84     80000\n",
      "weighted avg       0.84      0.84      0.84     80000\n",
      "\n"
     ]
    }
   ],
   "source": [
    "from sklearn.metrics import classification_report, balanced_accuracy_score\n",
    "\n",
    "# Avaliar o modelo com balanced_accuracy_score\n",
    "y_pred = pipeline.predict(X_test)\n",
    "print(\"Balanced Accuracy Score:\", balanced_accuracy_score(y_test, y_pred))\n",
    "\n",
    "# Exibir o classification report\n",
    "print(classification_report(y_test, y_pred))\n"
   ]
  },
  {
   "cell_type": "code",
   "execution_count": 13,
   "metadata": {},
   "outputs": [
    {
     "name": "stdout",
     "output_type": "stream",
     "text": [
      "Top palavras para __label__1 (negativas): ['book', 'one', 'like', 'would', 'time', 'get', 'good', 'movie', 'even', 'product']\n",
      "Top palavras para __label__2 (positivas): ['book', 'great', 'one', 'good', 'like', 'love', 'read', 'time', 'well', 'get']\n"
     ]
    }
   ],
   "source": [
    "# Acessar as palavras mais importantes\n",
    "vectorizer = pipeline.named_steps['vect']\n",
    "classifier = pipeline.named_steps['clf']\n",
    "\n",
    "# Obter as palavras do vocabulário\n",
    "feature_names = vectorizer.get_feature_names_out()\n",
    "\n",
    "# Obter os log-probabilidades das palavras para cada classe\n",
    "class_log_prob = classifier.feature_log_prob_\n",
    "\n",
    "# Identificar as 10 palavras mais importantes para cada classe\n",
    "top_words_class_1 = class_log_prob[0].argsort()[-10:][::-1]  # Top 10 palavras para __label__1 (negativas)\n",
    "top_words_class_2 = class_log_prob[1].argsort()[-10:][::-1]  # Top 10 palavras para __label__2 (positivas)\n",
    "\n",
    "# Exibir as palavras mais importantes\n",
    "print(\"Top palavras para __label__1 (negativas):\", [feature_names[i] for i in top_words_class_1])\n",
    "print(\"Top palavras para __label__2 (positivas):\", [feature_names[i] for i in top_words_class_2])\n"
   ]
  },
  {
   "cell_type": "code",
   "execution_count": null,
   "metadata": {},
   "outputs": [],
   "source": []
  }
 ],
 "metadata": {
  "kernelspec": {
   "display_name": "pfe",
   "language": "python",
   "name": "python3"
  },
  "language_info": {
   "codemirror_mode": {
    "name": "ipython",
    "version": 3
   },
   "file_extension": ".py",
   "mimetype": "text/x-python",
   "name": "python",
   "nbconvert_exporter": "python",
   "pygments_lexer": "ipython3",
   "version": "3.10.12"
  }
 },
 "nbformat": 4,
 "nbformat_minor": 2
}
