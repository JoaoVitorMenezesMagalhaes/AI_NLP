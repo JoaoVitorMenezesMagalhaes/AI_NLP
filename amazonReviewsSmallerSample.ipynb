{
 "cells": [
  {
   "cell_type": "code",
   "execution_count": 4,
   "metadata": {},
   "outputs": [
    {
     "name": "stdout",
     "output_type": "stream",
     "text": [
      "        label                                             review\n",
      "0  __label__2  Great CD: My lovely Pat has one of the GREAT v...\n",
      "1  __label__2  One of the best game music soundtracks - for a...\n",
      "2  __label__1  Batteries died within a year ...: I bought thi...\n",
      "3  __label__2  works fine, but Maha Energy is better: Check o...\n",
      "4  __label__2  Great for the non-audiophile: Reviewed quite a...\n"
     ]
    }
   ],
   "source": [
    "import pandas as pd\n",
    "import re\n",
    "\n",
    "# Exemplo de dados carregados diretamente (você precisará substituir pelo caminho correto do arquivo)\n",
    "with open('data/test.ft.txt', 'r', encoding='utf-8') as f:\n",
    "    raw_data = f.readlines()\n",
    "\n",
    "# Função para separar o rótulo e o texto da revisão\n",
    "def process_review_line(line):\n",
    "    # Separar rótulo do texto\n",
    "    match = re.match(r'(__label__\\d) (.+)', line)\n",
    "    if match:\n",
    "        label = match.group(1)\n",
    "        review = match.group(2)\n",
    "        return label, review\n",
    "    return None, None\n",
    "\n",
    "# Processar todas as linhas e organizar em listas\n",
    "labels = []\n",
    "reviews = []\n",
    "\n",
    "for line in raw_data:\n",
    "    label, review = process_review_line(line.strip())\n",
    "    if label and review:\n",
    "        labels.append(label)\n",
    "        reviews.append(review)\n",
    "\n",
    "# Criar DataFrame organizado\n",
    "df_test = pd.DataFrame({'label': labels, 'review': reviews})\n",
    "\n",
    "# Exibir as primeiras linhas do DataFrame\n",
    "print(df_test.head())"
   ]
  },
  {
   "cell_type": "code",
   "execution_count": 5,
   "metadata": {},
   "outputs": [
    {
     "data": {
      "text/html": [
       "<div>\n",
       "<style scoped>\n",
       "    .dataframe tbody tr th:only-of-type {\n",
       "        vertical-align: middle;\n",
       "    }\n",
       "\n",
       "    .dataframe tbody tr th {\n",
       "        vertical-align: top;\n",
       "    }\n",
       "\n",
       "    .dataframe thead th {\n",
       "        text-align: right;\n",
       "    }\n",
       "</style>\n",
       "<table border=\"1\" class=\"dataframe\">\n",
       "  <thead>\n",
       "    <tr style=\"text-align: right;\">\n",
       "      <th></th>\n",
       "      <th>label</th>\n",
       "      <th>review</th>\n",
       "    </tr>\n",
       "  </thead>\n",
       "  <tbody>\n",
       "    <tr>\n",
       "      <th>0</th>\n",
       "      <td>2</td>\n",
       "      <td>Great CD: My lovely Pat has one of the GREAT v...</td>\n",
       "    </tr>\n",
       "    <tr>\n",
       "      <th>1</th>\n",
       "      <td>2</td>\n",
       "      <td>One of the best game music soundtracks - for a...</td>\n",
       "    </tr>\n",
       "    <tr>\n",
       "      <th>2</th>\n",
       "      <td>1</td>\n",
       "      <td>Batteries died within a year ...: I bought thi...</td>\n",
       "    </tr>\n",
       "    <tr>\n",
       "      <th>3</th>\n",
       "      <td>2</td>\n",
       "      <td>works fine, but Maha Energy is better: Check o...</td>\n",
       "    </tr>\n",
       "    <tr>\n",
       "      <th>4</th>\n",
       "      <td>2</td>\n",
       "      <td>Great for the non-audiophile: Reviewed quite a...</td>\n",
       "    </tr>\n",
       "  </tbody>\n",
       "</table>\n",
       "</div>"
      ],
      "text/plain": [
       "   label                                             review\n",
       "0      2  Great CD: My lovely Pat has one of the GREAT v...\n",
       "1      2  One of the best game music soundtracks - for a...\n",
       "2      1  Batteries died within a year ...: I bought thi...\n",
       "3      2  works fine, but Maha Energy is better: Check o...\n",
       "4      2  Great for the non-audiophile: Reviewed quite a..."
      ]
     },
     "execution_count": 5,
     "metadata": {},
     "output_type": "execute_result"
    }
   ],
   "source": [
    "# Mapeando os rótulos para valores numéricos\n",
    "df_test['label'] = df_test['label'].map({'__label__1': 1, '__label__2': 2})\n",
    "df_test.head()"
   ]
  },
  {
   "cell_type": "code",
   "execution_count": 6,
   "metadata": {},
   "outputs": [
    {
     "name": "stderr",
     "output_type": "stream",
     "text": [
      "[nltk_data] Downloading package stopwords to\n",
      "[nltk_data]     C:\\Users\\joaom\\AppData\\Roaming\\nltk_data...\n",
      "[nltk_data]   Package stopwords is already up-to-date!\n",
      "[nltk_data] Downloading package wordnet to\n",
      "[nltk_data]     C:\\Users\\joaom\\AppData\\Roaming\\nltk_data...\n",
      "[nltk_data]   Package wordnet is already up-to-date!\n",
      "[nltk_data] Downloading package omw-1.4 to\n",
      "[nltk_data]     C:\\Users\\joaom\\AppData\\Roaming\\nltk_data...\n",
      "[nltk_data]   Package omw-1.4 is already up-to-date!\n"
     ]
    },
    {
     "name": "stdout",
     "output_type": "stream",
     "text": [
      "0    [great, cd, lovely, pat, one, great, voice, ge...\n",
      "1    [one, best, game, music, soundtrack, game, rea...\n",
      "2    [battery, died, within, year, bought, charger,...\n",
      "3    [work, fine, maha, energy, better, check, maha...\n",
      "4    [great, non, audiophile, reviewed, quite, bit,...\n",
      "Name: tokens, dtype: object\n"
     ]
    }
   ],
   "source": [
    "import re\n",
    "import nltk\n",
    "from nltk.corpus import stopwords\n",
    "from nltk.stem import WordNetLemmatizer\n",
    "\n",
    "# Baixar pacotes do nltk necessários\n",
    "nltk.download('stopwords')\n",
    "nltk.download('wordnet')\n",
    "nltk.download('omw-1.4')\n",
    "\n",
    "# Inicializar lematizador e obter lista de stopwords\n",
    "lemmatizer = WordNetLemmatizer()\n",
    "stop_words = set(stopwords.words('english'))\n",
    "\n",
    "# Função de tokenização e lematização\n",
    "def tokenize(text):\n",
    "    expression = r\"\\w+\"\n",
    "    match = re.findall(expression, text)\n",
    "    tokens = [lemmatizer.lemmatize(m.lower()) for m in match if m.lower() not in stop_words]\n",
    "    return tokens\n",
    "\n",
    "# Aplicar ao DataFrame\n",
    "df_test['tokens'] = df_test['review'].apply(tokenize)\n",
    "print(df_test['tokens'].head())"
   ]
  },
  {
   "cell_type": "code",
   "execution_count": 7,
   "metadata": {},
   "outputs": [
    {
     "name": "stderr",
     "output_type": "stream",
     "text": [
      "c:\\Users\\joaom\\AppData\\Local\\Continuum\\anaconda3\\envs\\pfe\\lib\\site-packages\\sklearn\\feature_extraction\\text.py:525: UserWarning: The parameter 'token_pattern' will not be used since 'tokenizer' is not None'\n",
      "  warnings.warn(\n"
     ]
    },
    {
     "name": "stdout",
     "output_type": "stream",
     "text": [
      "              precision    recall  f1-score   support\n",
      "\n",
      "           1       0.84      0.85      0.84     39896\n",
      "           2       0.85      0.83      0.84     40104\n",
      "\n",
      "    accuracy                           0.84     80000\n",
      "   macro avg       0.84      0.84      0.84     80000\n",
      "weighted avg       0.84      0.84      0.84     80000\n",
      "\n"
     ]
    }
   ],
   "source": [
    "from sklearn.feature_extraction.text import CountVectorizer, TfidfVectorizer\n",
    "from sklearn.naive_bayes import MultinomialNB\n",
    "from sklearn.pipeline import Pipeline\n",
    "from sklearn.model_selection import train_test_split\n",
    "from sklearn.metrics import classification_report\n",
    "\n",
    "# Dividir dados em treino e teste\n",
    "X_train, X_test, y_train, y_test = train_test_split(df_test['review'], df_test['label'], test_size=0.2, random_state=42)\n",
    "\n",
    "# Definir pipeline com Bag-of-Words e Naive Bayes\n",
    "pipeline = Pipeline([\n",
    "    ('vect', CountVectorizer(tokenizer=tokenize)),\n",
    "    ('clf', MultinomialNB())\n",
    "])\n",
    "\n",
    "# Treinar o modelo\n",
    "pipeline.fit(X_train, y_train)\n",
    "\n",
    "# Avaliar o modelo\n",
    "y_pred = pipeline.predict(X_test)\n",
    "print(classification_report(y_test, y_pred))\n"
   ]
  },
  {
   "cell_type": "code",
   "execution_count": 8,
   "metadata": {},
   "outputs": [
    {
     "name": "stdout",
     "output_type": "stream",
     "text": [
      "Balanced Accuracy Score: 0.8427116242305798\n",
      "              precision    recall  f1-score   support\n",
      "\n",
      "           1       0.84      0.85      0.84     39896\n",
      "           2       0.85      0.83      0.84     40104\n",
      "\n",
      "    accuracy                           0.84     80000\n",
      "   macro avg       0.84      0.84      0.84     80000\n",
      "weighted avg       0.84      0.84      0.84     80000\n",
      "\n"
     ]
    }
   ],
   "source": [
    "from sklearn.metrics import classification_report, balanced_accuracy_score\n",
    "\n",
    "# Avaliar o modelo com balanced_accuracy_score\n",
    "y_pred = pipeline.predict(X_test)\n",
    "print(\"Balanced Accuracy Score:\", balanced_accuracy_score(y_test, y_pred))\n",
    "\n",
    "# Exibir o classification report\n",
    "print(classification_report(y_test, y_pred))\n"
   ]
  },
  {
   "cell_type": "code",
   "execution_count": 9,
   "metadata": {},
   "outputs": [
    {
     "name": "stdout",
     "output_type": "stream",
     "text": [
      "Top palavras para __label__1 (negativas): ['book', 'one', 'like', 'would', 'time', 'get', 'good', 'movie', 'even', 'product']\n",
      "Top palavras para __label__2 (positivas): ['book', 'great', 'one', 'good', 'like', 'love', 'read', 'time', 'well', 'get']\n"
     ]
    }
   ],
   "source": [
    "# Acessar as palavras mais importantes\n",
    "vectorizer = pipeline.named_steps['vect']\n",
    "classifier = pipeline.named_steps['clf']\n",
    "\n",
    "# Obter as palavras do vocabulário\n",
    "feature_names = vectorizer.get_feature_names_out()\n",
    "\n",
    "# Obter os log-probabilidades das palavras para cada classe\n",
    "class_log_prob = classifier.feature_log_prob_\n",
    "\n",
    "# Identificar as 10 palavras mais importantes para cada classe\n",
    "top_words_class_1 = class_log_prob[0].argsort()[-10:][::-1]  # Top 10 palavras para __label__1 (negativas)\n",
    "top_words_class_2 = class_log_prob[1].argsort()[-10:][::-1]  # Top 10 palavras para __label__2 (positivas)\n",
    "\n",
    "# Exibir as palavras mais importantes\n",
    "print(\"Top palavras para __label__1 (negativas):\", [feature_names[i] for i in top_words_class_1])\n",
    "print(\"Top palavras para __label__2 (positivas):\", [feature_names[i] for i in top_words_class_2])\n"
   ]
  },
  {
   "cell_type": "markdown",
   "metadata": {},
   "source": [
    "# Downsampling"
   ]
  },
  {
   "cell_type": "code",
   "execution_count": 11,
   "metadata": {},
   "outputs": [
    {
     "name": "stderr",
     "output_type": "stream",
     "text": [
      "c:\\Users\\joaom\\AppData\\Local\\Continuum\\anaconda3\\envs\\pfe\\lib\\site-packages\\sklearn\\feature_extraction\\text.py:525: UserWarning: The parameter 'token_pattern' will not be used since 'tokenizer' is not None'\n",
      "  warnings.warn(\n",
      "c:\\Users\\joaom\\AppData\\Local\\Continuum\\anaconda3\\envs\\pfe\\lib\\site-packages\\sklearn\\feature_extraction\\text.py:525: UserWarning: The parameter 'token_pattern' will not be used since 'tokenizer' is not None'\n",
      "  warnings.warn(\n",
      "c:\\Users\\joaom\\AppData\\Local\\Continuum\\anaconda3\\envs\\pfe\\lib\\site-packages\\sklearn\\feature_extraction\\text.py:525: UserWarning: The parameter 'token_pattern' will not be used since 'tokenizer' is not None'\n",
      "  warnings.warn(\n",
      "c:\\Users\\joaom\\AppData\\Local\\Continuum\\anaconda3\\envs\\pfe\\lib\\site-packages\\sklearn\\feature_extraction\\text.py:525: UserWarning: The parameter 'token_pattern' will not be used since 'tokenizer' is not None'\n",
      "  warnings.warn(\n",
      "c:\\Users\\joaom\\AppData\\Local\\Continuum\\anaconda3\\envs\\pfe\\lib\\site-packages\\sklearn\\feature_extraction\\text.py:525: UserWarning: The parameter 'token_pattern' will not be used since 'tokenizer' is not None'\n",
      "  warnings.warn(\n",
      "c:\\Users\\joaom\\AppData\\Local\\Continuum\\anaconda3\\envs\\pfe\\lib\\site-packages\\sklearn\\feature_extraction\\text.py:525: UserWarning: The parameter 'token_pattern' will not be used since 'tokenizer' is not None'\n",
      "  warnings.warn(\n",
      "c:\\Users\\joaom\\AppData\\Local\\Continuum\\anaconda3\\envs\\pfe\\lib\\site-packages\\sklearn\\feature_extraction\\text.py:525: UserWarning: The parameter 'token_pattern' will not be used since 'tokenizer' is not None'\n",
      "  warnings.warn(\n",
      "c:\\Users\\joaom\\AppData\\Local\\Continuum\\anaconda3\\envs\\pfe\\lib\\site-packages\\sklearn\\feature_extraction\\text.py:525: UserWarning: The parameter 'token_pattern' will not be used since 'tokenizer' is not None'\n",
      "  warnings.warn(\n",
      "c:\\Users\\joaom\\AppData\\Local\\Continuum\\anaconda3\\envs\\pfe\\lib\\site-packages\\sklearn\\feature_extraction\\text.py:525: UserWarning: The parameter 'token_pattern' will not be used since 'tokenizer' is not None'\n",
      "  warnings.warn(\n",
      "c:\\Users\\joaom\\AppData\\Local\\Continuum\\anaconda3\\envs\\pfe\\lib\\site-packages\\sklearn\\feature_extraction\\text.py:525: UserWarning: The parameter 'token_pattern' will not be used since 'tokenizer' is not None'\n",
      "  warnings.warn(\n"
     ]
    },
    {
     "data": {
      "image/png": "[encoded data removed]",
      "text/plain": [
       "<Figure size 1000x600 with 1 Axes>"
      ]
     },
     "metadata": {},
     "output_type": "display_data"
    }
   ],
   "source": [
    "import numpy as np\n",
    "import matplotlib.pyplot as plt\n",
    "\n",
    "# Função para calcular acurácia em datasets menores\n",
    "def evaluate_downsampling(pipeline, df_train, sample_sizes):\n",
    "    train_errors = []\n",
    "    test_errors = []\n",
    "\n",
    "    for frac in sample_sizes:\n",
    "        df_sampled = df_train.sample(frac=frac, random_state=42)\n",
    "        X_train, X_test, y_train, y_test = train_test_split(df_sampled['review'], df_sampled['label'], test_size=0.2, random_state=42)\n",
    "        \n",
    "        # Treinar o modelo com o dataset reduzido\n",
    "        pipeline.fit(X_train, y_train)\n",
    "        \n",
    "        # Acurácia em treino\n",
    "        train_pred = pipeline.predict(X_train)\n",
    "        train_acc = balanced_accuracy_score(y_train, train_pred)\n",
    "        train_errors.append(1 - train_acc)\n",
    "        \n",
    "        # Acurácia em teste\n",
    "        test_pred = pipeline.predict(X_test)\n",
    "        test_acc = balanced_accuracy_score(y_test, test_pred)\n",
    "        test_errors.append(1 - test_acc)\n",
    "\n",
    "    return train_errors, test_errors\n",
    "\n",
    "# Definir frações do dataset para análise\n",
    "sample_sizes = np.linspace(0.1, 1.0, 10)\n",
    "\n",
    "# Avaliar\n",
    "train_errors, test_errors = evaluate_downsampling(pipeline, df_test, sample_sizes)\n",
    "\n",
    "# Plotar curvas de erro\n",
    "plt.figure(figsize=(10, 6))\n",
    "plt.plot(sample_sizes, train_errors, label='Erro de treino')\n",
    "plt.plot(sample_sizes, test_errors, label='Erro de teste')\n",
    "plt.xlabel('Tamanho do Dataset (fração)')\n",
    "plt.ylabel('Erro')\n",
    "plt.title('Erro de Treino vs Teste para Diferentes Tamanhos de Dataset')\n",
    "plt.legend()\n",
    "plt.show()"
   ]
  },
  {
   "cell_type": "markdown",
   "metadata": {},
   "source": [
    "# Topic Analysis"
   ]
  },
  {
   "cell_type": "code",
   "execution_count": 12,
   "metadata": {},
   "outputs": [
    {
     "name": "stderr",
     "output_type": "stream",
     "text": [
      "c:\\Users\\joaom\\AppData\\Local\\Continuum\\anaconda3\\envs\\pfe\\lib\\site-packages\\sklearn\\feature_extraction\\text.py:525: UserWarning: The parameter 'token_pattern' will not be used since 'tokenizer' is not None'\n",
      "  warnings.warn(\n"
     ]
    },
    {
     "name": "stdout",
     "output_type": "stream",
     "text": [
      "Top palavras para o Tópico 0:\n",
      "dvd video version quality player disc great set one would\n",
      "Top palavras para o Tópico 1:\n",
      "book good read information great one many well author would\n",
      "Top palavras para o Tópico 2:\n",
      "movie game film good one like great time bad really\n",
      "Top palavras para o Tópico 3:\n",
      "love book great year one child old gift wonderful christmas\n",
      "Top palavras para o Tópico 4:\n",
      "cd album song music like one great good sound best\n",
      "Top palavras para o Tópico 5:\n",
      "product like great use one water get good dog time\n",
      "Top palavras para o Tópico 6:\n",
      "book read story one character like life reading time good\n",
      "Top palavras para o Tópico 7:\n",
      "great good use one work well product fit would like\n",
      "Top palavras para o Tópico 8:\n",
      "product work one time would amazon get buy problem battery\n",
      "Top palavras para o Tópico 9:\n",
      "money one would waste like time buy get bought really\n"
     ]
    }
   ],
   "source": [
    "from sklearn.decomposition import LatentDirichletAllocation\n",
    "from sklearn.feature_extraction.text import CountVectorizer\n",
    "\n",
    "# Usar o CountVectorizer para preparar os dados para LDA\n",
    "vectorizer = CountVectorizer(tokenizer=tokenize, max_features=10000)\n",
    "X = vectorizer.fit_transform(df_test['review'])\n",
    "\n",
    "# Treinar LDA para encontrar 10 tópicos\n",
    "lda = LatentDirichletAllocation(n_components=10, random_state=42)\n",
    "lda.fit(X)\n",
    "\n",
    "# Exibir os tópicos mais importantes\n",
    "def display_topics(model, feature_names, no_top_words):\n",
    "    for topic_idx, topic in enumerate(model.components_):\n",
    "        print(f\"Top palavras para o Tópico {topic_idx}:\")\n",
    "        print(\" \".join([feature_names[i] for i in topic.argsort()[:-no_top_words - 1:-1]]))\n",
    "\n",
    "no_top_words = 10\n",
    "display_topics(lda, vectorizer.get_feature_names_out(), no_top_words)\n"
   ]
  },
  {
   "cell_type": "code",
   "execution_count": 13,
   "metadata": {},
   "outputs": [
    {
     "name": "stderr",
     "output_type": "stream",
     "text": [
      "c:\\Users\\joaom\\AppData\\Local\\Continuum\\anaconda3\\envs\\pfe\\lib\\site-packages\\sklearn\\feature_extraction\\text.py:525: UserWarning: The parameter 'token_pattern' will not be used since 'tokenizer' is not None'\n",
      "  warnings.warn(\n"
     ]
    },
    {
     "name": "stdout",
     "output_type": "stream",
     "text": [
      "Desempenho para o Tópico 0:\n",
      "              precision    recall  f1-score   support\n",
      "\n",
      "           1       0.83      0.89      0.86      2033\n",
      "           2       0.77      0.66      0.71      1083\n",
      "\n",
      "    accuracy                           0.81      3116\n",
      "   macro avg       0.80      0.78      0.78      3116\n",
      "weighted avg       0.81      0.81      0.81      3116\n",
      "\n"
     ]
    },
    {
     "name": "stderr",
     "output_type": "stream",
     "text": [
      "c:\\Users\\joaom\\AppData\\Local\\Continuum\\anaconda3\\envs\\pfe\\lib\\site-packages\\sklearn\\feature_extraction\\text.py:525: UserWarning: The parameter 'token_pattern' will not be used since 'tokenizer' is not None'\n",
      "  warnings.warn(\n"
     ]
    },
    {
     "name": "stdout",
     "output_type": "stream",
     "text": [
      "Desempenho para o Tópico 1:\n",
      "              precision    recall  f1-score   support\n",
      "\n",
      "           1       0.84      0.85      0.85      3703\n",
      "           2       0.88      0.88      0.88      4753\n",
      "\n",
      "    accuracy                           0.87      8456\n",
      "   macro avg       0.86      0.86      0.86      8456\n",
      "weighted avg       0.87      0.87      0.87      8456\n",
      "\n"
     ]
    },
    {
     "name": "stderr",
     "output_type": "stream",
     "text": [
      "c:\\Users\\joaom\\AppData\\Local\\Continuum\\anaconda3\\envs\\pfe\\lib\\site-packages\\sklearn\\feature_extraction\\text.py:525: UserWarning: The parameter 'token_pattern' will not be used since 'tokenizer' is not None'\n",
      "  warnings.warn(\n"
     ]
    },
    {
     "name": "stdout",
     "output_type": "stream",
     "text": [
      "Desempenho para o Tópico 2:\n",
      "              precision    recall  f1-score   support\n",
      "\n",
      "           1       0.85      0.88      0.87      4342\n",
      "           2       0.87      0.84      0.86      4171\n",
      "\n",
      "    accuracy                           0.86      8513\n",
      "   macro avg       0.86      0.86      0.86      8513\n",
      "weighted avg       0.86      0.86      0.86      8513\n",
      "\n"
     ]
    },
    {
     "name": "stderr",
     "output_type": "stream",
     "text": [
      "c:\\Users\\joaom\\AppData\\Local\\Continuum\\anaconda3\\envs\\pfe\\lib\\site-packages\\sklearn\\feature_extraction\\text.py:525: UserWarning: The parameter 'token_pattern' will not be used since 'tokenizer' is not None'\n",
      "  warnings.warn(\n"
     ]
    },
    {
     "name": "stdout",
     "output_type": "stream",
     "text": [
      "Desempenho para o Tópico 3:\n",
      "              precision    recall  f1-score   support\n",
      "\n",
      "           1       0.82      0.37      0.51       502\n",
      "           2       0.91      0.99      0.95      3321\n",
      "\n",
      "    accuracy                           0.91      3823\n",
      "   macro avg       0.87      0.68      0.73      3823\n",
      "weighted avg       0.90      0.91      0.89      3823\n",
      "\n"
     ]
    },
    {
     "name": "stderr",
     "output_type": "stream",
     "text": [
      "c:\\Users\\joaom\\AppData\\Local\\Continuum\\anaconda3\\envs\\pfe\\lib\\site-packages\\sklearn\\feature_extraction\\text.py:525: UserWarning: The parameter 'token_pattern' will not be used since 'tokenizer' is not None'\n",
      "  warnings.warn(\n"
     ]
    },
    {
     "name": "stdout",
     "output_type": "stream",
     "text": [
      "Desempenho para o Tópico 4:\n",
      "              precision    recall  f1-score   support\n",
      "\n",
      "           1       0.85      0.80      0.82      3867\n",
      "           2       0.89      0.92      0.90      6702\n",
      "\n",
      "    accuracy                           0.87     10569\n",
      "   macro avg       0.87      0.86      0.86     10569\n",
      "weighted avg       0.87      0.87      0.87     10569\n",
      "\n"
     ]
    },
    {
     "name": "stderr",
     "output_type": "stream",
     "text": [
      "c:\\Users\\joaom\\AppData\\Local\\Continuum\\anaconda3\\envs\\pfe\\lib\\site-packages\\sklearn\\feature_extraction\\text.py:525: UserWarning: The parameter 'token_pattern' will not be used since 'tokenizer' is not None'\n",
      "  warnings.warn(\n"
     ]
    },
    {
     "name": "stdout",
     "output_type": "stream",
     "text": [
      "Desempenho para o Tópico 5:\n",
      "              precision    recall  f1-score   support\n",
      "\n",
      "           1       0.85      0.82      0.83      2653\n",
      "           2       0.85      0.87      0.86      3017\n",
      "\n",
      "    accuracy                           0.85      5670\n",
      "   macro avg       0.85      0.84      0.85      5670\n",
      "weighted avg       0.85      0.85      0.85      5670\n",
      "\n"
     ]
    },
    {
     "name": "stderr",
     "output_type": "stream",
     "text": [
      "c:\\Users\\joaom\\AppData\\Local\\Continuum\\anaconda3\\envs\\pfe\\lib\\site-packages\\sklearn\\feature_extraction\\text.py:525: UserWarning: The parameter 'token_pattern' will not be used since 'tokenizer' is not None'\n",
      "  warnings.warn(\n"
     ]
    },
    {
     "name": "stdout",
     "output_type": "stream",
     "text": [
      "Desempenho para o Tópico 6:\n",
      "              precision    recall  f1-score   support\n",
      "\n",
      "           1       0.88      0.89      0.88      7113\n",
      "           2       0.89      0.88      0.88      7243\n",
      "\n",
      "    accuracy                           0.88     14356\n",
      "   macro avg       0.88      0.88      0.88     14356\n",
      "weighted avg       0.88      0.88      0.88     14356\n",
      "\n"
     ]
    },
    {
     "name": "stderr",
     "output_type": "stream",
     "text": [
      "c:\\Users\\joaom\\AppData\\Local\\Continuum\\anaconda3\\envs\\pfe\\lib\\site-packages\\sklearn\\feature_extraction\\text.py:525: UserWarning: The parameter 'token_pattern' will not be used since 'tokenizer' is not None'\n",
      "  warnings.warn(\n"
     ]
    },
    {
     "name": "stdout",
     "output_type": "stream",
     "text": [
      "Desempenho para o Tópico 7:\n",
      "              precision    recall  f1-score   support\n",
      "\n",
      "           1       0.85      0.85      0.85      4643\n",
      "           2       0.87      0.88      0.88      5622\n",
      "\n",
      "    accuracy                           0.86     10265\n",
      "   macro avg       0.86      0.86      0.86     10265\n",
      "weighted avg       0.86      0.86      0.86     10265\n",
      "\n"
     ]
    },
    {
     "name": "stderr",
     "output_type": "stream",
     "text": [
      "c:\\Users\\joaom\\AppData\\Local\\Continuum\\anaconda3\\envs\\pfe\\lib\\site-packages\\sklearn\\feature_extraction\\text.py:525: UserWarning: The parameter 'token_pattern' will not be used since 'tokenizer' is not None'\n",
      "  warnings.warn(\n"
     ]
    },
    {
     "name": "stdout",
     "output_type": "stream",
     "text": [
      "Desempenho para o Tópico 8:\n",
      "              precision    recall  f1-score   support\n",
      "\n",
      "           1       0.89      0.94      0.92      7550\n",
      "           2       0.77      0.64      0.70      2303\n",
      "\n",
      "    accuracy                           0.87      9853\n",
      "   macro avg       0.83      0.79      0.81      9853\n",
      "weighted avg       0.87      0.87      0.87      9853\n",
      "\n"
     ]
    },
    {
     "name": "stderr",
     "output_type": "stream",
     "text": [
      "c:\\Users\\joaom\\AppData\\Local\\Continuum\\anaconda3\\envs\\pfe\\lib\\site-packages\\sklearn\\feature_extraction\\text.py:525: UserWarning: The parameter 'token_pattern' will not be used since 'tokenizer' is not None'\n",
      "  warnings.warn(\n"
     ]
    },
    {
     "name": "stdout",
     "output_type": "stream",
     "text": [
      "Desempenho para o Tópico 9:\n",
      "              precision    recall  f1-score   support\n",
      "\n",
      "           1       0.90      0.91      0.91      3626\n",
      "           2       0.81      0.80      0.80      1758\n",
      "\n",
      "    accuracy                           0.87      5384\n",
      "   macro avg       0.86      0.85      0.85      5384\n",
      "weighted avg       0.87      0.87      0.87      5384\n",
      "\n"
     ]
    }
   ],
   "source": [
    "# Classificar documentos em tópicos\n",
    "doc_topics = lda.transform(X)\n",
    "\n",
    "# Adicionar uma coluna com o tópico principal de cada documento\n",
    "df_test['topic'] = doc_topics.argmax(axis=1)\n",
    "\n",
    "# Criar classificadores separados para cada tópico\n",
    "topic_classifiers = {}\n",
    "for topic in range(10):\n",
    "    topic_data = df_test[df_test['topic'] == topic]\n",
    "    X_topic_train, X_topic_test, y_topic_train, y_topic_test = train_test_split(topic_data['review'], topic_data['label'], test_size=0.2, random_state=42)\n",
    "    \n",
    "    # Pipeline de classificação para cada tópico\n",
    "    topic_pipeline = Pipeline([\n",
    "        ('vect', CountVectorizer(tokenizer=tokenize)),\n",
    "        ('clf', MultinomialNB())\n",
    "    ])\n",
    "    \n",
    "    # Treinar o classificador especializado no tópico\n",
    "    topic_pipeline.fit(X_topic_train, y_topic_train)\n",
    "    topic_classifiers[topic] = topic_pipeline\n",
    "\n",
    "    # Avaliar desempenho\n",
    "    y_topic_pred = topic_pipeline.predict(X_topic_test)\n",
    "    print(f\"Desempenho para o Tópico {topic}:\")\n",
    "    print(classification_report(y_topic_test, y_topic_pred))\n"
   ]
  },
  {
   "cell_type": "code",
   "execution_count": null,
   "metadata": {},
   "outputs": [],
   "source": []
  }
 ],
 "metadata": {
  "kernelspec": {
   "display_name": "pfe",
   "language": "python",
   "name": "python3"
  },
  "language_info": {
   "codemirror_mode": {
    "name": "ipython",
    "version": 3
   },
   "file_extension": ".py",
   "mimetype": "text/x-python",
   "name": "python",
   "nbconvert_exporter": "python",
   "pygments_lexer": "ipython3",
   "version": "3.10.12"
  }
 },
 "nbformat": 4,
 "nbformat_minor": 2
}
